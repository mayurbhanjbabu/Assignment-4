{
  "nbformat": 4,
  "nbformat_minor": 0,
  "metadata": {
    "colab": {
      "provenance": []
    },
    "kernelspec": {
      "name": "python3",
      "display_name": "Python 3"
    },
    "language_info": {
      "name": "python"
    }
  },
  "cells": [
    {
      "cell_type": "markdown",
      "source": [
        "Python OOPs Questions:\n",
        "1. What is Object-Oriented Programming (OOP)?\n",
        "\n",
        "Object-Oriented Programming is a programming paradigm based on the concept of “objects”, which contain\n",
        "data in the form of fields (attributes) and code in the form of procedures (methods). It promotes code reuse,\n",
        "scalability, and organization.\n",
        "2. What is a class in OOP?\n",
        "\n",
        "A class is a blueprint for creating objects. It defines a set of attributes and methods that the created objects\n",
        "(instances) will have.\n",
        "\n",
        "3. What is an object in OOP?\n",
        "\n",
        "An object is an instance of a class. It represents a specific implementation of the class with actual values for\n",
        "its attributes.\n",
        "\n",
        "4. What is the difference between abstraction and encapsulation?\n",
        "\n",
        "o Abstraction hides complexity by showing only essential details.\n",
        "o Encapsulation restricts access to certain components, which helps in data protection.\n",
        "\n",
        "5. What are dunder methods in Python?\n",
        "\n",
        "Dunder (double underscore) methods like __init__, __str__, __len__ allow class instances to behave like\n",
        "built-in types and interact with Python’s built-in functions.\n",
        "\n",
        "6. Explain the concept of inheritance in OOP.\n",
        "\n",
        "Inheritance allows a class (child) to inherit attributes and methods from another class (parent), promoting\n",
        "code reuse.\n",
        "\n",
        "7. What is polymorphism in OOP?\n",
        "\n",
        "Polymorphism allows methods to perform differently based on the object calling them, even if they share the\n",
        "same name.\n",
        "\n",
        "8. How is encapsulation achieved in Python?\n",
        "\n",
        "Encapsulation is achieved by making attributes private using underscores and accessing them via\n",
        "getter/setter methods.\n",
        "\n",
        "9. What is a constructor in Python?\n",
        "\n",
        "A constructor (__init__ method) initializes a newly created object’s attributes when an object is instantiated.\n",
        "\n",
        "10. What are class and static methods in Python?\n",
        "\n",
        "Class methods use @classmethod and take cls as the first argument.\n",
        "Static methods use @staticmethod and do not take self or cls.\n",
        "\n",
        "11. What is method overloading in Python?\n",
        "\n",
        "Python doesn’t support method overloading directly; instead, it can be simulated using default arguments or\n",
        "variable arguments (*args).\n",
        "\n",
        "12. What is method overriding in OOP?\n",
        "\n",
        "Method overriding allows a child class to provide a specific implementation of a method already defined in\n",
        "the parent class.\n",
        "\n",
        "13. What is a property decorator in Python?\n",
        "\n",
        "The @property decorator allows a method to be accessed like an attribute, typically used for getters.\n",
        "\n",
        "14. Why is polymorphism important in OOP?\n",
        "\n",
        "It promotes flexibility and scalability by allowing different classes to implement the same interface or method\n",
        "name differently.\n",
        "\n",
        "15. What is an abstract class in Python?\n",
        "\n",
        "An abstract class is a class that cannot be instantiated and may contain abstract methods that must be\n",
        "implemented in derived classes. It uses the abc module.\n",
        "\n",
        "16. What are the advantages of OOP?\n",
        "\n",
        " Modularity\n",
        " Reusability\n",
        " Scalability\n",
        " Maintainability\n",
        " Security (via encapsulation)\n",
        "\n",
        "17. What is the difference between a class variable and an instance variable?\n",
        "\n",
        " Class variable: shared across all instances.\n",
        " Instance variable: unique to each object.\n",
        "\n",
        "18. What is multiple inheritance in Python?\n",
        "\n",
        "Multiple inheritance means a class can inherit from more than one parent class.\n",
        "\n",
        "19. Explain the purpose of __str__ and __repr__ methods in Python.\n",
        "\n",
        " __str__: defines a human-readable string representation.\n",
        " __repr__: defines an unambiguous string useful for debugging.\n",
        "\n",
        "20. What is the significance of the super() function in Python?\n",
        "\n",
        "It allows access to methods of a parent class from the child class.\n",
        "\n",
        "21. What is the significance of the __del__ method in Python?\n",
        "\n",
        "It’s a destructor method called when an object is about to be destroyed.\n",
        "\n",
        "22. What is the difference between @staticmethod and @classmethod in Python?\n",
        "\n",
        " staticmethod has no access to class or instance.\n",
        " classmethod has access to the class but not the instance.\n",
        "\n",
        "23. How does polymorphism work in Python with inheritance?\n",
        "\n",
        "Derived classes override base class methods, and the right method is called at runtime depending on the\n",
        "object type.\n",
        "\n",
        "24. What is method chaining in Python OOP?\n",
        "\n",
        "Method chaining is calling multiple methods on the same object in a single line by returning self.\n",
        "\n",
        "25. What is the purpose of the __call__ method in Python?\n",
        "\n",
        "It allows an object to be called like a function."
      ],
      "metadata": {
        "id": "Uo2xAYwNBgVN"
      }
    },
    {
      "cell_type": "markdown",
      "source": [
        "Practical Questions\n",
        "1. Create a parent class Animal with a method speak() that prints a generic message. Create a child class Dog that\n",
        "overrides the speak() method to print \"Bark!\".\n",
        ""
      ],
      "metadata": {
        "id": "EnmOtlnQC_rh"
      }
    },
    {
      "cell_type": "code",
      "source": [
        "class Animal:\n",
        "    def speak(self):\n",
        "        print(\"This animal makes a sound.\")\n",
        "\n",
        "class Dog(Animal):\n",
        "    def speak(self):\n",
        "        print(\"Bark!\")\n",
        "\n"
      ],
      "metadata": {
        "id": "drX29V1eC8uQ"
      },
      "execution_count": 6,
      "outputs": []
    },
    {
      "cell_type": "markdown",
      "source": [
        "2. Write a program to create an abstract class Shape with a method area(). Derive classes Circle and Rectangle\n",
        "from it and implement the area() method in both."
      ],
      "metadata": {
        "id": "Ib20RXPZDd1R"
      }
    },
    {
      "cell_type": "code",
      "source": [
        "from abc import ABC, abstractmethod\n",
        "import math\n",
        "\n",
        "class Shape(ABC):\n",
        "    @abstractmethod\n",
        "    def area(self):\n",
        "        pass\n",
        "\n",
        "class Circle(Shape):\n",
        "    def __init__(self, radius):\n",
        "        self.radius = radius\n",
        "\n",
        "    def area(self):\n",
        "        return math.pi * (self.radius ** 2)\n",
        "\n",
        "class Rectangle(Shape):\n",
        "    def __init__(self, width, height):\n",
        "        self.width = width\n",
        "        self.height = height\n",
        "\n",
        "    def area(self):\n",
        "        return self.width * self.height\n",
        "\n",
        "# Example usage\n",
        "if __name__ == \"__main__\":\n",
        "    circle = Circle(5)\n",
        "    rectangle = Rectangle(4, 6)\n",
        "\n",
        "    print(f\"Area of the circle: {circle.area():.2f}\")\n",
        "    print(f\"Area of the rectangle: {rectangle.area()}\")\n"
      ],
      "metadata": {
        "colab": {
          "base_uri": "https://localhost:8080/"
        },
        "id": "iyWGmWqwDdcJ",
        "outputId": "190c4560-f7a2-4fc4-b352-97d2ad3a231c"
      },
      "execution_count": 7,
      "outputs": [
        {
          "output_type": "stream",
          "name": "stdout",
          "text": [
            "Area of the circle: 78.54\n",
            "Area of the rectangle: 24\n"
          ]
        }
      ]
    },
    {
      "cell_type": "markdown",
      "source": [
        "3. Implement a multi-level inheritance scenario where a class Vehicle has an attribute type. Derive a class Car and\n",
        "further derive a class ElectricCar that adds a battery attribute."
      ],
      "metadata": {
        "id": "6vP3of0wDvAW"
      }
    },
    {
      "cell_type": "code",
      "source": [
        "class Vehicle:\n",
        "    def __init__(self, vehicle_type):\n",
        "        self.type = vehicle_type\n",
        "\n",
        "    def show_type(self):\n",
        "        print(f\"Vehicle type: {self.type}\")\n",
        "\n",
        "\n",
        "class Car(Vehicle):\n",
        "    def __init__(self, vehicle_type, brand):\n",
        "        super().__init__(vehicle_type)\n",
        "        self.brand = brand\n",
        "\n",
        "    def show_brand(self):\n",
        "        print(f\"Car brand: {self.brand}\")\n",
        "\n",
        "\n",
        "class ElectricCar(Car):\n",
        "    def __init__(self, vehicle_type, brand, battery_capacity):\n",
        "        super().__init__(vehicle_type, brand)\n",
        "        self.battery = battery_capacity\n",
        "\n",
        "    def show_battery(self):\n",
        "        print(f\"Battery capacity: {self.battery} kWh\")\n",
        "\n",
        "\n",
        "# Example usage\n",
        "if __name__ == \"__main__\":\n",
        "    tesla = ElectricCar(\"Electric Vehicle\", \"Tesla\", 100)\n",
        "    tesla.show_type()\n",
        "    tesla.show_brand()\n",
        "    tesla.show_battery()\n"
      ],
      "metadata": {
        "colab": {
          "base_uri": "https://localhost:8080/"
        },
        "id": "NKl1VOPvDzeG",
        "outputId": "def2a5b8-a56b-4d77-9826-c3e02ecd5016"
      },
      "execution_count": 8,
      "outputs": [
        {
          "output_type": "stream",
          "name": "stdout",
          "text": [
            "Vehicle type: Electric Vehicle\n",
            "Car brand: Tesla\n",
            "Battery capacity: 100 kWh\n"
          ]
        }
      ]
    },
    {
      "cell_type": "markdown",
      "source": [
        "4. Demonstrate polymorphism by creating a base class Bird with a method fly(). Create two derived classes\n",
        "Sparrow and Penguin that override the fly() method."
      ],
      "metadata": {
        "id": "Yq9SdC9sD0zp"
      }
    },
    {
      "cell_type": "code",
      "source": [
        "class Bird:\n",
        "    def fly(self):\n",
        "        print(\"This bird can fly.\")\n",
        "\n",
        "class Sparrow(Bird):\n",
        "    def fly(self):\n",
        "        print(\"Sparrow flies high in the sky!\")\n",
        "\n",
        "class Penguin(Bird):\n",
        "    def fly(self):\n",
        "        print(\"Penguins cannot fly, but they are great swimmers!\")\n",
        "\n",
        "# Example usage\n",
        "if __name__ == \"__main__\":\n",
        "    birds = [Sparrow(), Penguin()]\n",
        "\n",
        "    for bird in birds:\n",
        "        bird.fly()\n"
      ],
      "metadata": {
        "colab": {
          "base_uri": "https://localhost:8080/"
        },
        "id": "qv4Uqgs-D6Mh",
        "outputId": "f00a92ef-9e65-47c9-ff03-1a5eaccdf20b"
      },
      "execution_count": 9,
      "outputs": [
        {
          "output_type": "stream",
          "name": "stdout",
          "text": [
            "Sparrow flies high in the sky!\n",
            "Penguins cannot fly, but they are great swimmers!\n"
          ]
        }
      ]
    },
    {
      "cell_type": "markdown",
      "source": [
        "5. Write a program to demonstrate encapsulation by creating a class BankAccount with private attributes balance\n",
        "and methods to deposit, withdraw, and check balance."
      ],
      "metadata": {
        "id": "u5RwRjd1D6du"
      }
    },
    {
      "cell_type": "code",
      "source": [
        "class BankAccount:\n",
        "    def __init__(self, initial_balance=0):\n",
        "        self.__balance = initial_balance  # Private attribute\n",
        "\n",
        "    def deposit(self, amount):\n",
        "        if amount > 0:\n",
        "            self.__balance += amount\n",
        "            print(f\"Deposited: ${amount:.2f}\")\n",
        "        else:\n",
        "            print(\"Deposit amount must be positive.\")\n",
        "\n",
        "    def withdraw(self, amount):\n",
        "        if 0 < amount <= self.__balance:\n",
        "            self.__balance -= amount\n",
        "            print(f\"Withdrew: ${amount:.2f}\")\n",
        "        else:\n",
        "            print(\"Insufficient funds or invalid withdrawal amount.\")\n",
        "\n",
        "    def check_balance(self):\n",
        "        print(f\"Current balance: ${self.__balance:.2f}\")\n",
        "\n",
        "# Example usage\n",
        "if __name__ == \"__main__\":\n",
        "    account = BankAccount(100)  # Create an account with an initial balance of $100\n",
        "    account.check_balance()       # Check balance\n",
        "    account.deposit(50)           # Deposit $50\n",
        "    account.check_balance()       # Check balance\n",
        "    account.withdraw(30)          # Withdraw $30\n",
        "    account.check_balance()       # Check balance\n",
        "    account.withdraw(150)         # Attempt to withdraw more than the balance\n"
      ],
      "metadata": {
        "colab": {
          "base_uri": "https://localhost:8080/"
        },
        "id": "d4m7nvwmD67o",
        "outputId": "cf420863-c450-4b8f-985b-5148a31e0a7c"
      },
      "execution_count": 10,
      "outputs": [
        {
          "output_type": "stream",
          "name": "stdout",
          "text": [
            "Current balance: $100.00\n",
            "Deposited: $50.00\n",
            "Current balance: $150.00\n",
            "Withdrew: $30.00\n",
            "Current balance: $120.00\n",
            "Insufficient funds or invalid withdrawal amount.\n"
          ]
        }
      ]
    },
    {
      "cell_type": "markdown",
      "source": [
        "6. Demonstrate runtime polymorphism using a method play() in a base class Instrument. Derive classes Guitar and\n",
        "Piano that implement their own version of play()."
      ],
      "metadata": {
        "id": "kdzV5KtiEDYu"
      }
    },
    {
      "cell_type": "code",
      "source": [
        "class Instrument:\n",
        "    def play(self):\n",
        "        print(\"Playing the instrument.\")\n",
        "\n",
        "class Guitar(Instrument):\n",
        "    def play(self):\n",
        "        print(\"Strumming the guitar!\")\n",
        "\n",
        "class Piano(Instrument):\n",
        "    def play(self):\n",
        "        print(\"Playing the piano keys!\")\n",
        "\n",
        "# Example usage\n",
        "if __name__ == \"__main__\":\n",
        "    instruments = [Guitar(), Piano()]\n",
        "\n",
        "    for instrument in instruments:\n",
        "        instrument.play()  # Calls the overridden play() method for each instrument\n"
      ],
      "metadata": {
        "colab": {
          "base_uri": "https://localhost:8080/"
        },
        "id": "-9b6nfOuEDvB",
        "outputId": "ba22b4d8-e9ec-4bcd-9dfd-6122e7d08df9"
      },
      "execution_count": 11,
      "outputs": [
        {
          "output_type": "stream",
          "name": "stdout",
          "text": [
            "Strumming the guitar!\n",
            "Playing the piano keys!\n"
          ]
        }
      ]
    },
    {
      "cell_type": "markdown",
      "source": [
        "7. Create a class MathOperations with a class method add_numbers() to add two numbers and a static method\n",
        "subtract_numbers() to subtract two numbers."
      ],
      "metadata": {
        "id": "p4ENGmL_EEBb"
      }
    },
    {
      "cell_type": "code",
      "source": [
        "class MathOperations:\n",
        "    @classmethod\n",
        "    def add_numbers(cls, a, b):\n",
        "        return a + b\n",
        "\n",
        "    @staticmethod\n",
        "    def subtract_numbers(a, b):\n",
        "        return a - b\n",
        "\n",
        "# Example usage\n",
        "if __name__ == \"__main__\":\n",
        "    print(\"Addition:\", MathOperations.add_numbers(10, 5))\n",
        "    print(\"Subtraction:\", MathOperations.subtract_numbers(10, 5))\n"
      ],
      "metadata": {
        "colab": {
          "base_uri": "https://localhost:8080/"
        },
        "id": "2ILracM7EEfy",
        "outputId": "430e7f28-2d2b-4b9b-b16b-e4a70e238403"
      },
      "execution_count": 12,
      "outputs": [
        {
          "output_type": "stream",
          "name": "stdout",
          "text": [
            "Addition: 15\n",
            "Subtraction: 5\n"
          ]
        }
      ]
    },
    {
      "cell_type": "markdown",
      "source": [
        "8. Implement a class Person with a class method to count the total number of persons created."
      ],
      "metadata": {
        "id": "1D2x9FppEVBl"
      }
    },
    {
      "cell_type": "code",
      "source": [
        "class Person:\n",
        "    # Class variable to keep track of the number of Person instances\n",
        "    total_persons = 0\n",
        "\n",
        "    def __init__(self, name):\n",
        "        self.name = name\n",
        "        Person.total_persons += 1  # Increment the count whenever a new instance is created\n",
        "\n",
        "    @classmethod\n",
        "    def count_persons(cls):\n",
        "        return cls.total_persons\n",
        "\n",
        "# Example usage\n",
        "if __name__ == \"__main__\":\n",
        "    person1 = Person(\"Alice\")\n",
        "    person2 = Person(\"Bob\")\n",
        "    person3 = Person(\"Charlie\")\n",
        "\n",
        "    print(f\"Total number of persons created: {Person.count_persons()}\")\n"
      ],
      "metadata": {
        "colab": {
          "base_uri": "https://localhost:8080/"
        },
        "id": "qgIYmzABEVSs",
        "outputId": "29d35f1d-f92c-47d3-891c-ae1a2a4a1c0f"
      },
      "execution_count": 13,
      "outputs": [
        {
          "output_type": "stream",
          "name": "stdout",
          "text": [
            "Total number of persons created: 3\n"
          ]
        }
      ]
    },
    {
      "cell_type": "markdown",
      "source": [
        "9. Write a class Fraction with attributes numerator and denominator. Override the toString() method to display the\n",
        "fraction as \"numerator/denominator\"."
      ],
      "metadata": {
        "id": "F6pKYPRXEVnt"
      }
    },
    {
      "cell_type": "code",
      "source": [
        "class Fraction:\n",
        "    def __init__(self, numerator, denominator):\n",
        "        if denominator == 0:\n",
        "            raise ValueError(\"Denominator cannot be zero.\")\n",
        "        self.numerator = numerator\n",
        "        self.denominator = denominator\n",
        "\n",
        "    def __str__(self):\n",
        "        return f\"{self.numerator}/{self.denominator}\"\n",
        "\n",
        "# Example usage\n",
        "if __name__ == \"__main__\":\n",
        "    fraction1 = Fraction(3, 4)\n",
        "    fraction2 = Fraction(5, 2)\n",
        "\n",
        "    print(f\"Fraction 1: {fraction1}\")  # Output: 3/4\n",
        "    print(f\"Fraction 2: {fraction2}\")  # Output: 5/2\n"
      ],
      "metadata": {
        "colab": {
          "base_uri": "https://localhost:8080/"
        },
        "id": "7WeV8tUFEV8Y",
        "outputId": "52ba9f43-a071-46fb-e64d-39de2ff0d43f"
      },
      "execution_count": 14,
      "outputs": [
        {
          "output_type": "stream",
          "name": "stdout",
          "text": [
            "Fraction 1: 3/4\n",
            "Fraction 2: 5/2\n"
          ]
        }
      ]
    },
    {
      "cell_type": "markdown",
      "source": [
        "10. Demonstrate operator overloading by creating a class Vector and overriding the add method to add two\n",
        "vectors."
      ],
      "metadata": {
        "id": "AEUe5-0aEjgi"
      }
    },
    {
      "cell_type": "code",
      "source": [
        "\n",
        "\n",
        "class Vector:\n",
        "    def __init__(self, x, y):\n",
        "        self.x = x\n",
        "        self.y = y\n",
        "\n",
        "    def __add__(self, other):\n",
        "        if not isinstance(other, Vector):\n",
        "            return NotImplemented\n",
        "        return Vector(self.x + other.x, self.y + other.y)\n",
        "\n",
        "    def __str__(self):\n",
        "        return f\"Vector({self.x}, {self.y})\"\n",
        "\n",
        "# Example usage\n",
        "if __name__ == \"__main__\":\n",
        "    vec1 = Vector(2, 3)\n",
        "    vec2 = Vector(4, 1)\n",
        "    vec3 = vec1 + vec2  # Uses overloaded + operator\n",
        "    print(vec3)         # Output: Vector(6, 4)\n"
      ],
      "metadata": {
        "colab": {
          "base_uri": "https://localhost:8080/"
        },
        "id": "FaxOsg6EEj5H",
        "outputId": "6ff6ddd9-df66-4525-857b-26fd31818492"
      },
      "execution_count": 15,
      "outputs": [
        {
          "output_type": "stream",
          "name": "stdout",
          "text": [
            "Vector(6, 4)\n"
          ]
        }
      ]
    },
    {
      "cell_type": "markdown",
      "source": [],
      "metadata": {
        "id": "qnKotsmLE_WR"
      }
    }
  ]
}